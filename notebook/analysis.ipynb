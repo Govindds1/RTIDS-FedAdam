{
 "cells": [
  {
   "cell_type": "code",
   "execution_count": 4,
   "id": "99ede9e5",
   "metadata": {},
   "outputs": [
    {
     "name": "stdout",
     "output_type": "stream",
     "text": [
      "Collecting imbalanced-learn\n",
      "  Using cached imbalanced_learn-0.13.0-py3-none-any.whl.metadata (8.8 kB)\n",
      "Requirement already satisfied: numpy<3,>=1.24.3 in /Users/govindraj/Desktop/lets/.venv/lib/python3.13/site-packages (from imbalanced-learn) (2.3.1)\n",
      "Collecting scipy<2,>=1.10.1 (from imbalanced-learn)\n",
      "  Downloading scipy-1.16.0-cp313-cp313-macosx_14_0_arm64.whl.metadata (61 kB)\n",
      "Collecting scikit-learn<2,>=1.3.2 (from imbalanced-learn)\n",
      "  Using cached scikit_learn-1.7.0-cp313-cp313-macosx_12_0_arm64.whl.metadata (31 kB)\n",
      "Collecting sklearn-compat<1,>=0.1 (from imbalanced-learn)\n",
      "  Using cached sklearn_compat-0.1.3-py3-none-any.whl.metadata (18 kB)\n",
      "Collecting joblib<2,>=1.1.1 (from imbalanced-learn)\n",
      "  Using cached joblib-1.5.1-py3-none-any.whl.metadata (5.6 kB)\n",
      "Collecting threadpoolctl<4,>=2.0.0 (from imbalanced-learn)\n",
      "  Using cached threadpoolctl-3.6.0-py3-none-any.whl.metadata (13 kB)\n",
      "Collecting scikit-learn<2,>=1.3.2 (from imbalanced-learn)\n",
      "  Using cached scikit_learn-1.6.1-cp313-cp313-macosx_12_0_arm64.whl.metadata (31 kB)\n",
      "Using cached imbalanced_learn-0.13.0-py3-none-any.whl (238 kB)\n",
      "Using cached joblib-1.5.1-py3-none-any.whl (307 kB)\n",
      "Downloading scipy-1.16.0-cp313-cp313-macosx_14_0_arm64.whl (20.7 MB)\n",
      "\u001b[2K   \u001b[90m━━━━━━━━━━━━━━━━━━━━━━━━━━━━━━━━━━━━━━━━\u001b[0m \u001b[32m20.7/20.7 MB\u001b[0m \u001b[31m1.1 MB/s\u001b[0m eta \u001b[36m0:00:00\u001b[0m00:01\u001b[0m00:01\u001b[0mm\n",
      "\u001b[?25hUsing cached sklearn_compat-0.1.3-py3-none-any.whl (18 kB)\n",
      "Using cached scikit_learn-1.6.1-cp313-cp313-macosx_12_0_arm64.whl (11.1 MB)\n",
      "Using cached threadpoolctl-3.6.0-py3-none-any.whl (18 kB)\n",
      "Installing collected packages: threadpoolctl, scipy, joblib, scikit-learn, sklearn-compat, imbalanced-learn\n",
      "\u001b[2K   \u001b[90m━━━━━━━━━━━━━━━━━━━━━━━━━━━━━━━━━━━━━━━━\u001b[0m \u001b[32m6/6\u001b[0m [imbalanced-learn][imbalanced-learn]\n",
      "\u001b[1A\u001b[2KSuccessfully installed imbalanced-learn-0.13.0 joblib-1.5.1 scikit-learn-1.6.1 scipy-1.16.0 sklearn-compat-0.1.3 threadpoolctl-3.6.0\n",
      "Note: you may need to restart the kernel to use updated packages.\n"
     ]
    }
   ],
   "source": [
    "# Install missing dependencies\n",
    "%pip install imbalanced-learn"
   ]
  },
  {
   "cell_type": "code",
   "execution_count": 5,
   "id": "74f7c58f",
   "metadata": {},
   "outputs": [],
   "source": [
    "import os"
   ]
  },
  {
   "cell_type": "code",
   "execution_count": 1,
   "id": "49a5ac7e",
   "metadata": {},
   "outputs": [
    {
     "name": "stdout",
     "output_type": "stream",
     "text": [
      "['U2R' 'BFA' 'DDoS' 'DoS' 'Probe' 'Normal' 'DDoS ' 'Web-Attack' 'BOTNET']\n"
     ]
    }
   ],
   "source": [
    "import pandas as pd\n",
    "\n",
    "df1 = pd.read_csv('../data/metasploitable-2.csv')\n",
    "df2 = pd.read_csv('../data/Normal_data.csv')\n",
    "df3 = pd.read_csv('../data/OVS.csv')\n",
    "\n",
    "# Concatenate\n",
    "combined_df = pd.concat([df1, df2, df3], ignore_index=True)\n",
    "\n",
    "# View all unique labels\n",
    "print(combined_df['Label'].unique())"
   ]
  },
  {
   "cell_type": "code",
   "execution_count": 2,
   "id": "c11e6e4e",
   "metadata": {},
   "outputs": [
    {
     "name": "stdout",
     "output_type": "stream",
     "text": [
      "Label\n",
      "Probe         98129\n",
      "DDoS          73529\n",
      "Normal        68424\n",
      "DoS           53616\n",
      "DDoS          48413\n",
      "BFA            1405\n",
      "Web-Attack      192\n",
      "BOTNET          164\n",
      "U2R              17\n",
      "Name: count, dtype: int64\n"
     ]
    }
   ],
   "source": [
    "# Assuming your label column is named 'label'\n",
    "label_counts = combined_df['Label'].value_counts()\n",
    "\n",
    "print(label_counts)"
   ]
  },
  {
   "cell_type": "code",
   "execution_count": 3,
   "id": "283cacd5",
   "metadata": {},
   "outputs": [
    {
     "name": "stdout",
     "output_type": "stream",
     "text": [
      "Label\n",
      "DDoS          121942\n",
      "Probe          98129\n",
      "Normal         68424\n",
      "DoS            53616\n",
      "BFA             1405\n",
      "Web-Attack       192\n",
      "BOTNET           164\n",
      "U2R               17\n",
      "Name: count, dtype: int64\n"
     ]
    }
   ],
   "source": [
    "# Remove leading/trailing whitespace from all labels\n",
    "combined_df['Label'] = combined_df['Label'].str.strip()\n",
    "\n",
    "# Now get the counts again\n",
    "label_counts = combined_df['Label'].value_counts()\n",
    "print(label_counts)"
   ]
  },
  {
   "cell_type": "code",
   "execution_count": 6,
   "id": "e150c3a8",
   "metadata": {},
   "outputs": [
    {
     "name": "stdout",
     "output_type": "stream",
     "text": [
      "Loaded ../data/metasploitable-2.csv with shape: (136743, 84)\n",
      "Loaded ../data/Normal_data.csv with shape: (68424, 84)\n",
      "Loaded ../data/OVS.csv with shape: (138722, 84)\n",
      "\n",
      "Combined dataset shape: (343889, 84)\n",
      "\n",
      "Initial label counts:\n",
      "Label\n",
      "DDoS          121942\n",
      "Probe          98129\n",
      "Normal         68424\n",
      "DoS            53616\n",
      "BFA             1405\n",
      "Web-Attack       192\n",
      "BOTNET           164\n",
      "U2R               17\n",
      "Name: count, dtype: int64\n"
     ]
    }
   ],
   "source": [
    "# Import pandas\n",
    "import pandas as pd\n",
    "import glob\n",
    "import os\n",
    "\n",
    "# Define data directory (adjust path as needed)\n",
    "data_dir = '../data'  # Replace with your actual data folder path\n",
    "\n",
    "# Load all CSV files\n",
    "csv_files = glob.glob(f'{data_dir}/*.csv')\n",
    "if not csv_files:\n",
    "    raise ValueError(f\"No CSV files found in {data_dir}. Please check the directory.\")\n",
    "\n",
    "# Combine datasets\n",
    "dfs = []\n",
    "for file in csv_files:\n",
    "    try:\n",
    "        df = pd.read_csv(file)\n",
    "        print(f\"Loaded {file} with shape: {df.shape}\")\n",
    "        dfs.append(df)\n",
    "    except Exception as e:\n",
    "        print(f\"Error loading {file}: {e}\")\n",
    "\n",
    "if not dfs:\n",
    "    raise ValueError(\"No datasets loaded successfully.\")\n",
    "\n",
    "combined_df = pd.concat(dfs, ignore_index=True)\n",
    "print(f\"\\nCombined dataset shape: {combined_df.shape}\")\n",
    "\n",
    "# Clean labels\n",
    "combined_df['Label'] = combined_df['Label'].astype(str).str.strip()\n",
    "print(\"\\nInitial label counts:\")\n",
    "print(combined_df['Label'].value_counts())"
   ]
  },
  {
   "cell_type": "code",
   "execution_count": 7,
   "id": "3f153443",
   "metadata": {},
   "outputs": [
    {
     "name": "stdout",
     "output_type": "stream",
     "text": [
      "\n",
      "Initial combined_df shape: (343889, 84)\n",
      "\n",
      "Initial label counts:\n",
      "Label\n",
      "DDoS          121942\n",
      "Probe          98129\n",
      "Normal         68424\n",
      "DoS            53616\n",
      "BFA             1405\n",
      "Web-Attack       192\n",
      "BOTNET           164\n",
      "U2R               17\n",
      "Name: count, dtype: int64\n",
      "Unique labels before mapping: ['U2R' 'BFA' 'DDoS' 'DoS' 'Probe' 'Normal' 'Web-Attack' 'BOTNET']\n",
      "\n",
      "Label counts after encoding:\n",
      "Label\n",
      "0.0    121942\n",
      "1.0     98129\n",
      "2.0     68424\n",
      "3.0     53616\n",
      "4.0      1405\n",
      "5.0       192\n",
      "6.0       164\n",
      "7.0        17\n",
      "Name: count, dtype: int64\n",
      "\n",
      "Combined dataset shape after preprocessing: (343889, 69)\n",
      "\n",
      "minority group shape: (1778, 69)\n",
      "minority label counts:\n",
      "Label\n",
      "4.0    1405\n",
      "5.0     192\n",
      "6.0     164\n",
      "7.0      17\n",
      "Name: count, dtype: int64\n",
      "\n",
      "majority group shape: (342111, 69)\n",
      "majority label counts:\n",
      "Label\n",
      "0.0    121942\n",
      "1.0     98129\n",
      "2.0     68424\n",
      "3.0     53616\n",
      "Name: count, dtype: int64\n",
      "\n",
      "Saved minority.csv to ../output/minority.csv\n",
      "\n",
      "Saved majority.csv to ../output/majority.csv\n",
      "\n",
      "Verified ../output/minority.csv shape: (1778, 69)\n",
      "\n",
      "Verified ../output/majority.csv shape: (342111, 69)\n"
     ]
    }
   ],
   "source": [
    "# Import necessary libraries\n",
    "import pandas as pd\n",
    "import numpy as np\n",
    "import os\n",
    "import glob\n",
    "\n",
    "# Assuming combined_df is already loaded with:\n",
    "# combined_df['Label'] = combined_df['Label'].str.strip()\n",
    "# label_counts = combined_df['Label'].value_counts()\n",
    "# print(label_counts)\n",
    "\n",
    "# Define paths\n",
    "output_dir = '../output'\n",
    "os.makedirs(output_dir, exist_ok=True)\n",
    "\n",
    "# Step 1: Verify combined_df\n",
    "print(\"\\nInitial combined_df shape:\", combined_df.shape)\n",
    "print(\"\\nInitial label counts:\")\n",
    "print(combined_df['Label'].value_counts())\n",
    "\n",
    "# Step 2: Clean the output folder\n",
    "for file_path in glob.glob(f'{output_dir}/*'):\n",
    "    try:\n",
    "        os.remove(file_path)\n",
    "        print(f\"Deleted {file_path}\")\n",
    "    except Exception as e:\n",
    "        print(f\"Error deleting {file_path}: {e}\")\n",
    "\n",
    "# Step 3: Encode string labels to numerical values\n",
    "# Ensure all labels are stripped of whitespace\n",
    "combined_df['Label'] = combined_df['Label'].astype(str).str.strip()\n",
    "\n",
    "print(\"Unique labels before mapping:\", combined_df['Label'].unique())\n",
    "\n",
    "label_mapping = {\n",
    "    'DDoS': 0.0,\n",
    "    'Probe': 1.0,\n",
    "    'Normal': 2.0,\n",
    "    'DoS': 3.0,\n",
    "    'BFA': 4.0,\n",
    "    'Web-Attack': 5.0,\n",
    "    'BOTNET': 6.0,\n",
    "    'U2R': 7.0\n",
    "}\n",
    "combined_df['Label'] = combined_df['Label'].map(label_mapping)\n",
    "\n",
    "if combined_df['Label'].isnull().any():\n",
    "    unmapped_labels = combined_df[combined_df['Label'].isnull()]['Label'].unique()\n",
    "    print(\"Unmapped labels found:\", unmapped_labels)\n",
    "    raise ValueError(f\"Some labels could not be mapped: {unmapped_labels}\")\n",
    "\n",
    "print(\"\\nLabel counts after encoding:\")\n",
    "print(combined_df['Label'].value_counts())\n",
    "\n",
    "# Step 4: Preprocess data\n",
    "constant_columns = ['Fwd PSH Flags', 'Fwd URG Flags', 'CWE Flag Count', 'ECE Flag Cnt', \n",
    "                    'Fwd Byts/b Avg', 'Fwd Pkts/b Avg', 'Fwd Blk Rate Avg', \n",
    "                    'Bwd Byts/b Avg', 'Bwd Pkts/b Avg', 'Bwd Blk Rate Avg', 'Fwd Seg Size Min']\n",
    "non_numerical = ['Flow ID', 'Src IP', 'Dst IP', 'Timestamp']\n",
    "combined_df = combined_df.drop(columns=[col for col in non_numerical + constant_columns if col in combined_df.columns])\n",
    "for col in combined_df.columns:\n",
    "    if col != 'Label' and np.issubdtype(combined_df[col].dtype, np.number):\n",
    "        combined_df[col] = combined_df[col].clip(lower=0)\n",
    "print(f\"\\nCombined dataset shape after preprocessing: {combined_df.shape}\")\n",
    "\n",
    "# Step 5: Split into minority and majority groups\n",
    "minority_classes = [4.0, 5.0, 6.0, 7.0]  # BFA, Web-Attack, BOTNET, U2R\n",
    "groups = {\n",
    "    'minority': combined_df[combined_df['Label'].isin(minority_classes)],\n",
    "    'majority': combined_df[~combined_df['Label'].isin(minority_classes)]\n",
    "}\n",
    "for group_name, df in groups.items():\n",
    "    print(f\"\\n{group_name} group shape: {df.shape}\")\n",
    "    print(f\"{group_name} label counts:\")\n",
    "    print(df['Label'].value_counts())\n",
    "    if df.empty:\n",
    "        print(f\"Warning: {group_name} group is empty. Check label mapping and data.\")\n",
    "\n",
    "# Step 6: Save grouped datasets only if not empty\n",
    "for group_name, df in groups.items():\n",
    "    if not df.empty:\n",
    "        df.to_csv(f'{output_dir}/{group_name}.csv', index=False)\n",
    "        print(f\"\\nSaved {group_name}.csv to {output_dir}/{group_name}.csv\")\n",
    "    else:\n",
    "        print(f\"Skipped saving {group_name}.csv because the group is empty.\")\n",
    "\n",
    "# Step 7: Verify saved files\n",
    "for group_name in groups:\n",
    "    file_path = f'{output_dir}/{group_name}.csv'\n",
    "    if os.path.exists(file_path):\n",
    "        df = pd.read_csv(file_path)\n",
    "        print(f\"\\nVerified {file_path} shape: {df.shape}\")\n",
    "        if df.empty:\n",
    "            raise ValueError(f\"Saved {file_path} is empty.\")\n",
    "    else:\n",
    "        print(f\"File {file_path} does not exist, skipping verification.\")"
   ]
  },
  {
   "cell_type": "code",
   "execution_count": 8,
   "id": "e34b6463",
   "metadata": {},
   "outputs": [
    {
     "name": "stdout",
     "output_type": "stream",
     "text": [
      "\n",
      "majority.csv shape: (342111, 69)\n",
      "Labels: [0.0, 3.0, 1.0, 2.0]\n",
      "\n",
      "minority.csv shape: (1778, 69)\n",
      "Labels: [7.0, 4.0, 5.0, 6.0]\n"
     ]
    }
   ],
   "source": [
    "for file in ['majority.csv', 'minority.csv']:\n",
    "    df = pd.read_csv(os.path.join(output_dir, file))\n",
    "    print(f'\\n{file} shape: {df.shape}')\n",
    "    print(f'Labels: {df[\"Label\"].unique().tolist()}')"
   ]
  }
 ],
 "metadata": {
  "kernelspec": {
   "display_name": ".venv",
   "language": "python",
   "name": "python3"
  },
  "language_info": {
   "codemirror_mode": {
    "name": "ipython",
    "version": 3
   },
   "file_extension": ".py",
   "mimetype": "text/x-python",
   "name": "python",
   "nbconvert_exporter": "python",
   "pygments_lexer": "ipython3",
   "version": "3.13.3"
  }
 },
 "nbformat": 4,
 "nbformat_minor": 5
}
